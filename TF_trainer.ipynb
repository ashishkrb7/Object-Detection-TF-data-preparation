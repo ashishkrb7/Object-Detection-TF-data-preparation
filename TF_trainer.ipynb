{
 "metadata": {
  "language_info": {
   "codemirror_mode": {
    "name": "ipython",
    "version": 3
   },
   "file_extension": ".py",
   "mimetype": "text/x-python",
   "name": "python",
   "nbconvert_exporter": "python",
   "pygments_lexer": "ipython3",
   "version": "3.7.3-final"
  },
  "orig_nbformat": 2,
  "kernelspec": {
   "name": "python3",
   "display_name": "Python 3.7.3 64-bit (conda)",
   "metadata": {
    "interpreter": {
     "hash": "b3ba2566441a7c06988d0923437866b63cedc61552a5af99d1f4fb67d367b25f"
    }
   }
  }
 },
 "nbformat": 4,
 "nbformat_minor": 2,
 "cells": [
  {
   "source": [
    "<table align=\"left\"><td>\n",
    "  <a target=\"_blank\"  href=\"https://colab.sandbox.google.com/github/ashishkrb7/Object-Detection-TF-data-preparation/blob/main/TF_trainer.ipynb\">\n",
    "    <img src=\"https://www.tensorflow.org/images/colab_logo_32px.png\" />Run in Google Colab\n",
    "  </a>\n",
    "</td><td>\n",
    "  <a target=\"_blank\"  href=\"https://github.com/ashishkrb7/Object-Detection-TF-data-preparation/blob/main/TF_trainer.ipynb\">\n",
    "    <img width=32px src=\"https://www.tensorflow.org/images/GitHub-Mark-32px.png\" />View source on GitHub</a>\n",
    "</td></table>"
   ],
   "cell_type": "markdown",
   "metadata": {}
  },
  {
   "cell_type": "code",
   "execution_count": null,
   "metadata": {},
   "outputs": [],
   "source": [
    "%reset -f"
   ]
  },
  {
   "source": [
    "# Integrate Google drive"
   ],
   "cell_type": "markdown",
   "metadata": {}
  },
  {
   "cell_type": "code",
   "execution_count": null,
   "metadata": {},
   "outputs": [],
   "source": [
    "from google.colab import drive\n",
    "drive.mount('/content/gdrive')"
   ]
  },
  {
   "cell_type": "code",
   "execution_count": null,
   "metadata": {},
   "outputs": [],
   "source": [
    "%cd '/content/gdrive/MyDrive'"
   ]
  },
  {
   "source": [
    "# Dependencies installation and environment setup"
   ],
   "cell_type": "markdown",
   "metadata": {}
  },
  {
   "cell_type": "code",
   "execution_count": null,
   "metadata": {},
   "outputs": [],
   "source": [
    "%cd /content\n",
    "!git clone --quiet https://github.com/tensorflow/models.git\n",
    " \n",
    "!apt-get install -qq protobuf-compiler python-pil python-lxml python-tk\n",
    " \n",
    "!pip install -q Cython contextlib2 pillow lxml matplotlib\n",
    " \n",
    "!pip install -q pycocotools\n",
    "\n",
    "!python -m pip install -q Cython pandas tf-slim lvis \n",
    "\n",
    "!python -m pip install -q tensorflow-addons\n",
    "\n",
    "!python -m pip install -q tensorflow==1.14\n",
    " \n",
    "%cd /content/models/research\n",
    "!protoc object_detection/protos/*.proto --python_out=.\n",
    " \n",
    "import os\n",
    "os.environ['PYTHONPATH'] += ':/content/gdrive/MyDrive/models/research/:/content/gdrive/MyDrive/models/research/slim/'\n",
    " \n",
    "!python object_detection/builders/model_builder_test.py"
   ]
  },
  {
   "source": [
    "# Remove unnecessary files and folder from the directory"
   ],
   "cell_type": "markdown",
   "metadata": {}
  },
  {
   "cell_type": "code",
   "execution_count": null,
   "metadata": {},
   "outputs": [],
   "source": [
    "# import shutil,os\n",
    "# shutil.rmtree(\"/content/gdrive/MyDrive/Tensorflow/models\")\n",
    "# os.remove(\"/content/gdrive/MyDrive/Tensorflow/workspace/training_demo/exporter_main_v2.py\")"
   ]
  },
  {
   "source": [
    "# cd into the TensorFlow directory in your Google Drive and download models"
   ],
   "cell_type": "markdown",
   "metadata": {}
  },
  {
   "source": [
    "        TensorFlow\n",
    "        ├───scripts\n",
    "        │   └───preprocessing\n",
    "        │     └───generate_tfrecord.py \n",
    "        │     └───xml_to_csv.py \n",
    "        └───workspace\n",
    "            └───training_demo\n",
    "                ├───annotations\n",
    "                │   └───label_map.pbtxt \n",
    "                ├───exported-models\n",
    "                ├───images\n",
    "                │   ├───test\n",
    "                │   │     └───test images with corresponding XML files (put zip file, code will do rest of the work)\n",
    "                │   └───train\n",
    "                │         └───train images with corresponding XML files (put zip file, code will do rest of the work)\n",
    "                ├───models\n",
    "                │   └───my_ssd_resnet50_v1_fpn\n",
    "                │     └───pipeline.config\n",
    "                └───pre-trained-models\n",
    "                    └───ssd_resnet50_v1_fpn_640x640_coco17_tpu-8"
   ],
   "cell_type": "markdown",
   "metadata": {}
  },
  {
   "cell_type": "code",
   "execution_count": null,
   "metadata": {},
   "outputs": [],
   "source": [
    "%cd '/content/gdrive/MyDrive'"
   ]
  },
  {
   "cell_type": "code",
   "execution_count": 1,
   "metadata": {},
   "outputs": [],
   "source": [
    "repo_dir_path='.'"
   ]
  },
  {
   "cell_type": "code",
   "execution_count": 2,
   "metadata": {},
   "outputs": [],
   "source": [
    "# create directory\n",
    "if not os.path.exists(repo_dir_path+'/Tensorflow/scripts/preprocessing'):os.makedirs(repo_dir_path+'/Tensorflow/scripts/preprocessing')\n",
    "if not os.path.exists(repo_dir_path+'/Tensorflow/workspace/training_demo/annotation'):os.makedirs(repo_dir_path+'/Tensorflow/workspace/training_demo/annotation')\n",
    "if not os.path.exists(repo_dir_path+'/Tensorflow/workspace/training_demo/exported-models'):os.makedirs(repo_dir_path+'/Tensorflow/workspace/training_demo/exported-models')\n",
    "if not os.path.exists(repo_dir_path+'/Tensorflow/workspace/training_demo/images/train'):os.makedirs(repo_dir_path+'/Tensorflow/workspace/training_demo/images/train')\n",
    "if not os.path.exists(repo_dir_path+'/Tensorflow/workspace/training_demo/images/test'):os.makedirs(repo_dir_path+'/Tensorflow/workspace/training_demo/images/test')\n",
    "if not os.path.exists(repo_dir_path+'/Tensorflow/workspace/training_demo/models'):os.makedirs(repo_dir_path+'/Tensorflow/workspace/trainingdemo/models')\n",
    "if not os.path.exists(repo_dir_path+'/Tensorflow/workspace/training_demo/pre-trained-models'):os.makedirs(repo_dir_path+'/Tensorflow/workspace/training_demo/pre-trained-models')"
   ]
  },
  {
   "source": [
    "# Load files"
   ],
   "cell_type": "markdown",
   "metadata": {}
  },
  {
   "cell_type": "code",
   "execution_count": null,
   "metadata": {},
   "outputs": [],
   "source": [
    "# Load TF-recorder generator\n",
    "import urllib.request\n",
    "url_generate_tfrecord = \"https://raw.githubusercontent.com/ashishkrb7/Object-Detection-TF-data-preparation/main/generate_tfrecord.py\"\n",
    "url_xml_to_csv = \"https://raw.githubusercontent.com/ashishkrb7/Object-Detection-TF-data-preparation/main/generate_tfrecord.py\"\n",
    "filename, headers = urllib.request.urlretrieve(url_generate_tfrecord, filename=repo_dir_path+\"/Tensorflow/scripts/preprocessing/generate_tfrecord.py\")\n",
    "filename, headers = urllib.request.urlretrieve(url_xml_to_csv, filename=repo_dir_path+\"/Tensorflow/scripts/preprocessing/xml_to_csv.py\")"
   ]
  },
  {
   "cell_type": "code",
   "execution_count": null,
   "metadata": {},
   "outputs": [],
   "source": [
    "# Load train and test dataset in zip formate to respective folder\n",
    "from google.colab import files\n",
    "%cd {repo_dir_path+'/Tensorflow/workspace/training_demo/images/train'}\n",
    "upload=files.upload()"
   ]
  },
  {
   "cell_type": "code",
   "execution_count": null,
   "metadata": {},
   "outputs": [],
   "source": [
    "!unzip train.zip\n",
    "!rm train.zip"
   ]
  },
  {
   "cell_type": "code",
   "execution_count": null,
   "metadata": {},
   "outputs": [],
   "source": [
    "%cd {repo_dir_path+'/Tensorflow/workspace/training_demo/images/test'}\n",
    "upload=files.upload()"
   ]
  },
  {
   "cell_type": "code",
   "execution_count": null,
   "metadata": {},
   "outputs": [],
   "source": [
    "!unzip test.zip\n",
    "!rm test.zip"
   ]
  },
  {
   "source": [
    "# Download tensorflow Object detection API"
   ],
   "cell_type": "markdown",
   "metadata": {}
  },
  {
   "cell_type": "code",
   "execution_count": null,
   "metadata": {},
   "outputs": [],
   "source": [
    "%cd '/content/gdrive/MyDrive/Tensorflow\n",
    "!git clone https://github.com/tensorflow/models.git\n",
    "!git pull"
   ]
  },
  {
   "source": [
    "# Dataset preparation (TFrecord preparation)"
   ],
   "cell_type": "markdown",
   "metadata": {}
  },
  {
   "cell_type": "code",
   "execution_count": null,
   "metadata": {},
   "outputs": [],
   "source": [
    "%cd './content'"
   ]
  },
  {
   "cell_type": "code",
   "execution_count": null,
   "metadata": {},
   "outputs": [],
   "source": [
    "# Convert train folder annotation xml files to a single csv file,\n",
    "# generate the `label_map.pbtxt` file to `data/` directory as well.\n",
    "!python gdrive/MyDrive/Tensorflow/scripts/preprocessing/xml_to_csv.py -i gdrive/MyDrive/Tensorflow/workspace/training_demo/images/train -o gdrive/MyDrive/Tensorflow/workspace/training_demo/annotation/train_labels.csv -l gdrive/MyDrive/Tensorflow/workspace/training_demo/annotation\n",
    " \n",
    "# Convert test folder annotation xml files to a single csv.\n",
    "!python gdrive/MyDrive/Tensorflow/scripts/preprocessing/xml_to_csv.py -i gdrive/MyDrive/Tensorflow/workspace/training_demo/images/test -o gdrive/MyDrive/Tensorflow/workspace/training_demo/annotation/test_labels.csv\n",
    " \n",
    "# Generate `train.record`\n",
    "!python gdrive/MyDrive/Tensorflow/scripts/preprocessing/generate_tfrecord.py --csv_input=gdrive/MyDrive/Tensorflow/workspace/training_demo/annotation/train_labels.csv --output_path=gdrive/MyDrive/Tensorflow/workspace/training_demo/annotation/train.record --img_path=gdrive/MyDrive/Tensorflow/workspace/training_demo/images/train --label_map gdrive/MyDrive/Tensorflow/workspace/training_demo/annotation/label_map.pbtxt\n",
    " \n",
    "# Generate `test.record`\n",
    "!python gdrive/MyDrive/Tensorflow/scripts/preprocessing/generate_tfrecord.py --csv_input=gdrive/MyDrive/Tensorflow/workspace/training_demo/annotation/test_labels.csv --output_path=gdrive/MyDrive/Tensorflow/workspace/training_demo/annotation/test.record --img_path=gdrive/MyDrive/Tensorflow/workspace/training_demo/images/train --label_map gdrive/MyDrive/Tensorflow/workspace/training_demo/annotation/label_map.pbtxt\n"
   ]
  },
  {
   "cell_type": "code",
   "execution_count": null,
   "metadata": {},
   "outputs": [],
   "source": [
    "inputDir='/content/gdrive/MyDrive/Tensorflow/workspace/training_demo/annotation/'\n",
    "%cd {inputDir}\n",
    "!zip -r data.zip {inputDir}"
   ]
  },
  {
   "cell_type": "code",
   "execution_count": null,
   "metadata": {},
   "outputs": [],
   "source": [
    "from google.colab import files\n",
    "files.download('data.zip')"
   ]
  },
  {
   "source": [
    "# Download pre-trained model"
   ],
   "cell_type": "markdown",
   "metadata": {}
  },
  {
   "source": [
    "To select the model for TF-1 [click here](https://github.com/tensorflow/models/blob/master/research/object_detection/g3doc/tf1_detection_zoo.md)\n",
    "\n",
    "Reference:\n",
    "-   [TF1](https://towardsdatascience.com/object-detection-by-tensorflow-1-x-5a8cb72c1c4b)\n",
    "-   [TF2](https://medium.com/swlh/tensorflow-2-object-detection-api-with-google-colab-b2af171e81cc)"
   ],
   "cell_type": "markdown",
   "metadata": {}
  },
  {
   "cell_type": "code",
   "execution_count": null,
   "metadata": {},
   "outputs": [],
   "source": [
    "model_name='ssd_inception_v2_coco_2018_01_28'"
   ]
  },
  {
   "cell_type": "code",
   "execution_count": null,
   "metadata": {},
   "outputs": [],
   "source": [
    "if not os.path.exists(repo_dir_path+'/Tensorflow/workspace/training_demo/models/{model_name}'):os.makedirs(repo_dir_path+'/Tensorflow/workspace/training_demo/models/{model_name}')"
   ]
  },
  {
   "cell_type": "code",
   "execution_count": null,
   "metadata": {},
   "outputs": [],
   "source": [
    "import wget\n",
    "fname=wget.download(f'http://download.tensorflow.org/models/object_detection/{model_name}.tar.gz')\n",
    "import shutil\n",
    "shutil.unpack_archive(fname,repo_dir_path+'/Tensorflow/workspace/training_demo/models')\n",
    "!rm {fname}"
   ]
  },
  {
   "cell_type": "code",
   "execution_count": null,
   "metadata": {},
   "outputs": [],
   "source": [
    "if not os.path.exists(repo_dir_path+'/Tensorflow/workspace/training_demo/pre-trained-models/{model_name}'):os.makedirs(repo_dir_path+'/Tensorflow/workspace/training_demo/pre-trained-models/{model_name}')"
   ]
  },
  {
   "cell_type": "code",
   "execution_count": null,
   "metadata": {},
   "outputs": [],
   "source": [
    "# Copy pipline.config file. This file need to modify based on dataset\n",
    "shutil.copy(repo_dir_path+'/Tensorflow/workspace/training_demo/pre-trained-models/{model_name}/pipline.config',repo_dir_path+'/Tensorflow/workspace/training_demo/model/{model_name}')"
   ]
  },
  {
   "source": [
    "# Configuring a Training Pipeline"
   ],
   "cell_type": "markdown",
   "metadata": {}
  },
  {
   "cell_type": "code",
   "execution_count": null,
   "metadata": {},
   "outputs": [],
   "source": []
  },
  {
   "source": [
    "Based on research, Following parameter are found to be sensitive"
   ],
   "cell_type": "markdown",
   "metadata": {}
  },
  {
   "cell_type": "code",
   "execution_count": null,
   "metadata": {},
   "outputs": [],
   "source": []
  }
 ]
}
{
  "nbformat": 4,
  "nbformat_minor": 0,
  "metadata": {
    "accelerator": "GPU",
    "colab": {
      "name": "Data_Preparation_by_Ashish.ipynb",
      "private_outputs": true,
      "provenance": [],
      "collapsed_sections": [],
      "toc_visible": true
    },
    "kernelspec": {
      "display_name": "Python 3",
      "language": "python",
      "name": "python3"
    },
    "language_info": {
      "codemirror_mode": {
        "name": "ipython",
        "version": 3
      },
      "file_extension": ".py",
      "mimetype": "text/x-python",
      "name": "python",
      "nbconvert_exporter": "python",
      "pygments_lexer": "ipython3",
      "version": "3.7.3-final"
    }
  },
  "cells": [
    {
      "cell_type": "markdown",
      "metadata": {
        "id": "V8-yl-s-WKMG"
      },
      "source": [
        "# Data preparation for Object detection API\n",
        "\n",
        "<table align=\"left\"><td>\n",
        "  <a target=\"_blank\"  href=\"https://colab.sandbox.google.com/github/ashishkrb7/Object-Detection-TF-data-preparation/blob/main/Data_Preparation_by_Ashish.ipynb\">\n",
        "    <img src=\"https://www.tensorflow.org/images/colab_logo_32px.png\" />Run in Google Colab\n",
        "  </a>\n",
        "</td><td>\n",
        "  <a target=\"_blank\"  href=\"https://github.com/ashishkrb7/Object-Detection-TF-data-preparation/blob/main/Data_Preparation_by_Ashish.ipynb\">\n",
        "    <img width=32px src=\"https://www.tensorflow.org/images/GitHub-Mark-32px.png\" />View source on GitHub</a>\n",
        "</td></table>"
      ]
    },
    {
      "cell_type": "code",
      "metadata": {
        "id": "e9j9NS3HMdfD"
      },
      "source": [
        "# %cd /content/\n",
        "# import shutil\n",
        "# import os\n",
        "# shutil.rmtree(\"Object-Detection-TF-datapreparation\")\n",
        "# shutil.rmtree(\"Object-Detection-TF-datapreparation.gitdata\")\n",
        "# shutil.rmtree(\"Object-Detection-TF-datapreparationdata\")\n",
        "# shutil.rmtree(\"models\")"
      ],
      "execution_count": null,
      "outputs": []
    },
    {
      "cell_type": "code",
      "metadata": {
        "id": "_iU1fKBrMdfF"
      },
      "source": [
        "!python -m pip install tf_slim\n",
        "!python -m pip install tf-models-official"
      ],
      "execution_count": null,
      "outputs": []
    },
    {
      "cell_type": "code",
      "metadata": {
        "id": "1gbiyocHMdfG"
      },
      "source": [
        "import os\n",
        "%cd /content\n",
        "!git clone --quiet https://github.com/tensorflow/models.git\n",
        "repo_url = 'https://github.com/ashishkrb7/Object-Detection-TF-data-preparation.git'\n",
        "%cd /content\n",
        "repo_dir_path = os.path.abspath(os.path.join('.', os.path.basename(repo_url))).split(\".\")[0]\n",
        "!git clone {repo_url}\n",
        "%cd {repo_dir_path}\n",
        "!git pull"
      ],
      "execution_count": null,
      "outputs": []
    },
    {
      "cell_type": "code",
      "metadata": {
        "id": "Mhwc-sfZMdfH"
      },
      "source": [
        "%cd /content\n",
        "\n",
        "!apt-get install -qq protobuf-compiler python-pil python-lxml python-tk\n",
        "\n",
        "!pip install -q Cython contextlib2 pillow lxml matplotlib\n",
        "\n",
        "!pip install -q pycocotools\n",
        "\n",
        "%cd /content/models/research\n",
        "!protoc object_detection/protos/*.proto --python_out=.\n",
        "os.environ['PYTHONPATH'] += ':/content/models/research/:/content/models/research/slim/'\n",
        "!python object_detection/builders/model_builder_test.py"
      ],
      "execution_count": null,
      "outputs": []
    },
    {
      "cell_type": "code",
      "metadata": {
        "id": "lJm4CYRGMdfI"
      },
      "source": [
        "if not os.path.exists(repo_dir_path+'/data/images/train'):os.makedirs(repo_dir_path+'/data/images/train')\n",
        "if not os.path.exists(repo_dir_path+'/data/images/test'):os.makedirs(repo_dir_path+'/data/images/test')\n",
        "if not os.path.exists(repo_dir_path+'/data/annotations'):os.makedirs(repo_dir_path+'/data/annotations')"
      ],
      "execution_count": null,
      "outputs": []
    },
    {
      "cell_type": "markdown",
      "metadata": {
        "id": "imDJci00MdfJ"
      },
      "source": [
        "---"
      ]
    },
    {
      "cell_type": "markdown",
      "metadata": {
        "id": "zkp_aqtPMdfK"
      },
      "source": [
        "# Upload the dataset in train and test folder"
      ]
    },
    {
      "cell_type": "markdown",
      "metadata": {
        "id": "CSBF9dHaMdfK"
      },
      "source": [
        "---"
      ]
    },
    {
      "cell_type": "code",
      "metadata": {
        "id": "fd6iDirqNb2_"
      },
      "source": [
        "from google.colab import files"
      ],
      "execution_count": null,
      "outputs": []
    },
    {
      "cell_type": "code",
      "metadata": {
        "id": "IeJSefVvM1j7"
      },
      "source": [
        "%cd {repo_dir_path+'/data/images/train'}\r\n",
        "upload=files.upload()"
      ],
      "execution_count": null,
      "outputs": []
    },
    {
      "cell_type": "code",
      "metadata": {
        "id": "EiPwVrFlM1we"
      },
      "source": [
        "!unzip train.zip\r\n",
        "!rm train.zip"
      ],
      "execution_count": null,
      "outputs": []
    },
    {
      "cell_type": "code",
      "metadata": {
        "id": "9ggUroomMdfL"
      },
      "source": [
        "%cd {repo_dir_path+'/data/images/test'}\n",
        "upload=files.upload()"
      ],
      "execution_count": null,
      "outputs": []
    },
    {
      "cell_type": "code",
      "metadata": {
        "id": "nMOf85YCMdfM"
      },
      "source": [
        "!unzip test.zip\n",
        "!rm test.zip"
      ],
      "execution_count": null,
      "outputs": []
    },
    {
      "cell_type": "markdown",
      "metadata": {
        "id": "o2RfO6kUMdfN"
      },
      "source": [
        "# Generate processed dataset"
      ]
    },
    {
      "cell_type": "code",
      "metadata": {
        "id": "_T9e22_mMdfN"
      },
      "source": [
        "%cd {repo_dir_path}\n",
        "\n",
        "# Convert train folder annotation xml files to a single csv file,\n",
        "# generate the `label_map.pbtxt` file to `data/` directory as well.\n",
        "!python xml_to_csv.py -i data/images/train -o data/annotations/train_labels.csv -l data/annotations\n",
        "\n",
        "# Convert test folder annotation xml files to a single csv.\n",
        "!python xml_to_csv.py -i data/images/test -o data/annotations/test_labels.csv\n",
        "\n",
        "# Generate `train.record`\n",
        "!python generate_tfrecord.py --csv_input=data/annotations/train_labels.csv --output_path=data/annotations/train.record --img_path=data/images/train --label_map data/annotations/label_map.pbtxt\n",
        "\n",
        "# Generate `test.record`\n",
        "!python generate_tfrecord.py --csv_input=data/annotations/test_labels.csv --output_path=data/annotations/test.record --img_path=data/images/test --label_map data/annotations/label_map.pbtxt"
      ],
      "execution_count": null,
      "outputs": []
    },
    {
      "cell_type": "markdown",
      "metadata": {
        "id": "JBfrqt2uMdfO"
      },
      "source": [
        "# Download dataset"
      ]
    },
    {
      "cell_type": "code",
      "metadata": {
        "id": "6_HrXgfYMdfP"
      },
      "source": [
        "inputDir=repo_dir_path+'/data/annotations/'\n",
        "%cd {inputDir}\n",
        "!zip -r data.zip {inputDir}"
      ],
      "execution_count": null,
      "outputs": []
    },
    {
      "cell_type": "code",
      "metadata": {
        "id": "SLzrbHmpMdfP"
      },
      "source": [
        "from google.colab import files\n",
        "files.download('data.zip')"
      ],
      "execution_count": null,
      "outputs": []
    }
  ]
}
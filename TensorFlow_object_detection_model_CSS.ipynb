{
  "nbformat": 4,
  "nbformat_minor": 0,
  "metadata": {
    "colab": {
      "name": "TensorFlow_object_detection_model_CSS.ipynb",
      "provenance": [],
      "collapsed_sections": []
    },
    "kernelspec": {
      "name": "python3",
      "display_name": "Python 3"
    },
    "accelerator": "GPU"
  },
  "cells": [
    {
      "cell_type": "markdown",
      "metadata": {
        "id": "BWBi1hxcP9io",
        "colab_type": "text"
      },
      "source": [
        "https://medium.com/swlh/tensorflow-2-object-detection-api-with-google-colab-b2af171e81cc"
      ]
    },
    {
      "source": [
        "# Data preparation for Object detection API\n",
        "\n",
        "<table align=\"left\"><td>\n",
        "  <a target=\"_blank\"  href=\"https://colab.sandbox.google.com/github/ashishkrb7/Object-Detection-TF-data-preparation/blob/main/TensorFlow_object_detection_model_CSS.ipynb\">\n",
        "    <img src=\"https://www.tensorflow.org/images/colab_logo_32px.png\" />Run in Google Colab\n",
        "  </a>\n",
        "</td><td>\n",
        "  <a target=\"_blank\"  href=\"https://github.com/ashishkrb7/Object-Detection-TF-data-preparation/blob/main/TensorFlow_object_detection_model_CSS.ipynb\">\n",
        "    <img width=32px src=\"https://www.tensorflow.org/images/GitHub-Mark-32px.png\" />View source on GitHub</a>\n",
        "</td></table>"
      ],
      "cell_type": "markdown",
      "metadata": {}
    },
    {
      "source": [
        "# Mount Google Drive."
      ],
      "cell_type": "markdown",
      "metadata": {}
    },
    {
      "cell_type": "code",
      "metadata": {
        "id": "3Si3sOwi7e06",
        "colab_type": "code",
        "colab": {}
      },
      "source": [
        "from google.colab import drive\n",
        "drive.mount('/content/gdrive')"
      ],
      "execution_count": null,
      "outputs": []
    },
    {
      "source": [
        "# Download TensorFlow Model Garden"
      ],
      "cell_type": "markdown",
      "metadata": {}
    },
    {
      "cell_type": "code",
      "metadata": {
        "id": "0dW4lm8371iZ",
        "colab_type": "code",
        "colab": {}
      },
      "source": [
        "#cd into the TensorFlow directory in your Google Drive\n",
        "%cd '/content/gdrive/My Drive/TensorFlow'\n",
        "\n",
        "#and clone the TensorFlow Model Garden repository\n",
        "!git clone https://github.com/tensorflow/models.git\n",
        "\n",
        "\n",
        "#using a older version of repo (21 Sept 2020)\n",
        "%cd '/content/gdrive/MyDrive/TensorFlow/models'\n",
        "!git checkout -f e04dafd04d69053d3733bb91d47d0d95bc2c8199"
      ],
      "execution_count": null,
      "outputs": []
    },
    {
      "source": [
        "        TensorFlow\n",
        "        ├───scripts\n",
        "        │   └───preprocessing\n",
        "        │     └───generate_tfrecord.py \n",
        "        └───workspace\n",
        "            └───training_demo\n",
        "                ├───annotations\n",
        "                │   └───label_map.pbtxt \n",
        "                ├───exported-models\n",
        "                ├───images\n",
        "                │   ├───test\n",
        "                │   │     └───test images with corresponding XML files\n",
        "                │   └───train\n",
        "                │         └───train images with corresponding XML files\n",
        "                ├───models\n",
        "                │   └───my_ssd_resnet50_v1_fpn\n",
        "                │     └───pipeline.config\n",
        "                └───pre-trained-models\n",
        "                    └───ssd_resnet50_v1_fpn_640x640_coco17_tpu-8"
      ],
      "cell_type": "markdown",
      "metadata": {}
    },
    {
      "source": [
        "# Install some required libraries and tools"
      ],
      "cell_type": "markdown",
      "metadata": {}
    },
    {
      "cell_type": "code",
      "metadata": {
        "id": "So0uPn6C8j-Z",
        "colab_type": "code",
        "colab": {}
      },
      "source": [
        "!apt-get install protobuf-compiler python-lxml python-pil\n",
        "!pip install Cython pandas tf-slim lvis"
      ],
      "execution_count": null,
      "outputs": []
    },
    {
      "source": [
        "# Compile the Protobuf libraries"
      ],
      "cell_type": "markdown",
      "metadata": {}
    },
    {
      "cell_type": "code",
      "metadata": {
        "id": "0BI9kNtN9Hca",
        "colab_type": "code",
        "colab": {}
      },
      "source": [
        "#cd into 'TensorFlow/models/research'\n",
        "%cd '/content/gdrive/My Drive/TensorFlow/models/research/'\n",
        "!protoc object_detection/protos/*.proto --python_out=."
      ],
      "execution_count": null,
      "outputs": []
    },
    {
      "source": [
        "# Set the environment"
      ],
      "cell_type": "markdown",
      "metadata": {}
    },
    {
      "cell_type": "code",
      "metadata": {
        "id": "wEAg3ksA9Pih",
        "colab_type": "code",
        "colab": {}
      },
      "source": [
        "import os\n",
        "import sys\n",
        "os.environ['PYTHONPATH']+=\":/content/gdrive/My Drive/TensorFlow/models\"\n",
        "sys.path.append(\"/content/gdrive/My Drive/TensorFlow/models/research\")"
      ],
      "execution_count": null,
      "outputs": []
    },
    {
      "source": [
        "# Build and Install setup.py"
      ],
      "cell_type": "markdown",
      "metadata": {}
    },
    {
      "cell_type": "code",
      "metadata": {
        "id": "UT9-acjE9d2K",
        "colab_type": "code",
        "colab": {}
      },
      "source": [
        "!python setup.py build\n",
        "!python setup.py install"
      ],
      "execution_count": null,
      "outputs": []
    },
    {
      "source": [
        "# Test the installation"
      ],
      "cell_type": "markdown",
      "metadata": {}
    },
    {
      "cell_type": "code",
      "metadata": {
        "id": "7M5qUba89u3S",
        "colab_type": "code",
        "colab": {}
      },
      "source": [
        "#cd into 'TensorFlow/models/research/object_detection/builders/'\n",
        "%cd '/content/gdrive/My Drive/TensorFlow/models/research/object_detection/builders/'\n",
        "!python model_builder_tf2_test.py\n",
        "from object_detection.utils import label_map_util\n",
        "from object_detection.utils import visualization_utils as viz_utils\n",
        "print('Done')"
      ],
      "execution_count": null,
      "outputs": []
    },
    {
      "cell_type": "markdown",
      "metadata": {
        "id": "vQ9iPmLFEQJi",
        "colab_type": "text"
      },
      "source": [
        "NOTE:\n",
        "\n",
        "You should have the images in test and train folder (with their corresponding XML files) and label_map.pbtxt file ready in respective directories.\n",
        "\n",
        "You should also have the generate_tfrecord.py in your preprocessing directory.\n",
        "\n",
        "If you don't have these files ready, go back to Step 1 and finish downloading required files."
      ]
    },
    {
      "source": [
        "# Generate TFrecords"
      ],
      "cell_type": "markdown",
      "metadata": {}
    },
    {
      "cell_type": "code",
      "metadata": {
        "id": "h5C5-PCp-elV",
        "colab_type": "code",
        "colab": {}
      },
      "source": [
        "#cd into preprocessing directory\n",
        "%cd '/content/gdrive/My Drive/TensorFlow/scripts/preprocessing'\n",
        "\n",
        "#run the cell to generate test.record and train.record\n",
        "!python generate_tfrecord.py -x '/content/gdrive/My Drive/TensorFlow/workspace/training_demo/images/train' -l '/content/gdrive/My Drive/TensorFlow/workspace/training_demo/annotations/label_map.pbtxt' -o '/content/gdrive/My Drive/TensorFlow/workspace/training_demo/annotations/train.record'\n",
        "!python generate_tfrecord.py -x '/content/gdrive/My Drive/TensorFlow/workspace/training_demo/images/test' -l '/content/gdrive/My Drive/TensorFlow/workspace/training_demo/annotations/label_map.pbtxt' -o '/content/gdrive/My Drive/TensorFlow/workspace/training_demo/annotations/test.record'\n",
        "\n",
        "# !python generate_tfrecord.py -x '[path_to_train_folder]' -l '[path_to_annotations_folder]/label_map.pbtxt' -o '[path_to_annotations_folder]/train.record'\n",
        "# !python generate_tfrecord.py -x '[path_to_test_folder]' -l '[path_to_annotations_folder]/label_map.pbtxt' -o '[path_to_annotations_folder]/test.record'\n"
      ],
      "execution_count": null,
      "outputs": []
    },
    {
      "source": [
        "# Copying some files"
      ],
      "cell_type": "markdown",
      "metadata": {}
    },
    {
      "cell_type": "markdown",
      "metadata": {
        "id": "Ql7XBP2VOhcV",
        "colab_type": "text"
      },
      "source": [
        "*   Copy the \"model_main_tf2.py\" file from   \"TensorFlow\\models\\research\\object_detection\" and paste it into training_demo. We will need this file for training the model.\n",
        "\n",
        "*   Copy the \"exporter_main_v2.py\" file from \"TensorFlow\\models\\research\\object_detection\" and paste it into training_demo.\n",
        "We will need this file to export the trained model\n",
        "\n",
        "\n",
        "\n",
        "\n"
      ]
    },
    {
      "source": [
        "# Start Tensorboard"
      ],
      "cell_type": "markdown",
      "metadata": {}
    },
    {
      "cell_type": "code",
      "metadata": {
        "id": "7JISAAfK-inS",
        "colab_type": "code",
        "colab": {}
      },
      "source": [
        "#cd into training_demo\n",
        "%cd '/content/gdrive/My Drive/TensorFlow/workspace/training_demo'\n",
        "\n",
        "#start the Tensorboard\n",
        "%load_ext tensorboard\n",
        "%tensorboard --logdir=models/my_ssd_resnet50_v1_fpn\n",
        "\n",
        "# %load_ext tensorboard\n",
        "# %tensorboard --logdir=models/[name_of_pre-trained-model_you_downloaded]"
      ],
      "execution_count": null,
      "outputs": []
    },
    {
      "cell_type": "code",
      "metadata": {
        "id": "e_hgJrWJuC_O",
        "colab_type": "code",
        "colab": {}
      },
      "source": [
        "#optional\n",
        "#code to check how much session time is remaining \n",
        "\n",
        "import time,psutil\n",
        "uptime=time.time()-psutil.boot_time()\n",
        "remaintime=(12*60*60)-uptime\n",
        "print(remaintime/(60*60))"
      ],
      "execution_count": null,
      "outputs": []
    },
    {
      "source": [
        "# Train the model"
      ],
      "cell_type": "markdown",
      "metadata": {}
    },
    {
      "cell_type": "code",
      "metadata": {
        "id": "yFLP5SUS-vYa",
        "colab_type": "code",
        "colab": {}
      },
      "source": [
        "#run the cell to start model training \n",
        "!python model_main_tf2.py --model_dir=models/my_ssd_resnet50_v1_fpn --pipeline_config_path=models/my_ssd_resnet50_v1_fpn/pipeline.config\n",
        "\n",
        "# !python model_main_tf2.py --model_dir=models/[name_of_pre-trained-model_you_downloaded] --pipeline_config_path=models/[name_of_pre-trained-model_you_downloaded]/pipeline.config"
      ],
      "execution_count": null,
      "outputs": []
    },
    {
      "cell_type": "markdown",
      "metadata": {
        "id": "PCmWC2Ae8DjW",
        "colab_type": "text"
      },
      "source": [
        "Congratulations! You have finished model training!"
      ]
    },
    {
      "source": [
        "# Export the Trained Model"
      ],
      "cell_type": "markdown",
      "metadata": {}
    },
    {
      "cell_type": "code",
      "metadata": {
        "id": "zDSirOAQ-0sy",
        "colab_type": "code",
        "colab": {}
      },
      "source": [
        "#run the cell to start model training \n",
        "!python exporter_main_v2.py --input_type image_tensor --pipeline_config_path ./models/my_ssd_resnet50_v1_fpn/pipeline.config --trained_checkpoint_dir ./models/my_ssd_resnet50_v1_fpn/ --output_directory ./exported-models/my_model\n",
        "\n",
        "# !python exporter_main_v2.py --input_type image_tensor --pipeline_config_path ./models/[name_of_pre-trained-model you downloaded]/pipeline.config --trained_checkpoint_dir ./models/[name_of_pre-trained-model_you_downloaded]/ --output_directory ./exported-models/my_model"
      ],
      "execution_count": null,
      "outputs": []
    },
    {
      "cell_type": "markdown",
      "metadata": {
        "id": "tAQWLOON4dZt",
        "colab_type": "text"
      },
      "source": [
        "We have finished training and exporting our model. It's time to test our model!"
      ]
    },
    {
      "source": [
        "# Test the Model"
      ],
      "cell_type": "markdown",
      "metadata": {}
    },
    {
      "cell_type": "code",
      "metadata": {
        "id": "nz2jiOgJ4mUK",
        "colab_type": "code",
        "colab": {}
      },
      "source": [
        "#Loading the saved_model\n",
        "import tensorflow as tf\n",
        "import time\n",
        "from object_detection.utils import label_map_util\n",
        "from object_detection.utils import visualization_utils as viz_utils\n",
        "\n",
        "PATH_TO_SAVED_MODEL=\"/content/gdrive/My Drive/TensorFlow/workspace/training_demo/exported-models/my_model/saved_model\"\n",
        "\n",
        "print('Loading model...', end='')\n",
        "\n",
        "# Load saved model and build the detection function\n",
        "detect_fn=tf.saved_model.load(PATH_TO_SAVED_MODEL)\n",
        "\n",
        "print('Done!')"
      ],
      "execution_count": null,
      "outputs": []
    },
    {
      "cell_type": "code",
      "metadata": {
        "id": "sX--5tHy4-S1",
        "colab_type": "code",
        "colab": {}
      },
      "source": [
        "# Testing the Model.\n",
        "\n",
        "#Loading the label_map\n",
        "category_index=label_map_util.create_category_index_from_labelmap(\"/content/gdrive/My Drive/TensorFlow/workspace/training_demo/annotations/label_map.pbtxt\",use_display_name=True)\n",
        "\n",
        "#category_index=label_map_util.create_category_index_from_labelmap([path_to_label_map],use_display_name=True)"
      ],
      "execution_count": null,
      "outputs": []
    },
    {
      "cell_type": "code",
      "metadata": {
        "id": "UURD_H_c5grh",
        "colab_type": "code",
        "colab": {}
      },
      "source": [
        "# Testing the Model.\n",
        "\n",
        "#Loading the image\n",
        "img=['/content/img1.jpg','/content/img2.jpg']\n",
        "print(img)\n",
        "\n",
        "#list containing paths of all the images"
      ],
      "execution_count": null,
      "outputs": []
    },
    {
      "source": [
        "# Running the Inference"
      ],
      "cell_type": "markdown",
      "metadata": {}
    },
    {
      "cell_type": "code",
      "metadata": {
        "id": "tNLxnQNa54d_",
        "colab_type": "code",
        "colab": {}
      },
      "source": [
        "import numpy as np\n",
        "from PIL import Image\n",
        "import matplotlib.pyplot as plt\n",
        "import warnings\n",
        "warnings.filterwarnings('ignore')   # Suppress Matplotlib warnings\n",
        "\n",
        "def load_image_into_numpy_array(path):\n",
        "    \"\"\"Load an image from file into a numpy array.\n",
        "\n",
        "    Puts image into numpy array to feed into tensorflow graph.\n",
        "    Note that by convention we put it into a numpy array with shape\n",
        "    (height, width, channels), where channels=3 for RGB.\n",
        "\n",
        "    Args:\n",
        "      path: the file path to the image\n",
        "\n",
        "    Returns:\n",
        "      uint8 numpy array with shape (img_height, img_width, 3)\n",
        "    \"\"\"\n",
        "    return np.array(Image.open(path))\n",
        "\n",
        "for image_path in img:\n",
        "\n",
        "    print('Running inference for {}... '.format(image_path), end='')\n",
        "    image_np=load_image_into_numpy_array(image_path)\n",
        "\n",
        "    # Things to try:\n",
        "    # Flip horizontally\n",
        "    # image_np = np.fliplr(image_np).copy()\n",
        "    # Convert image to grayscale\n",
        "    # image_np = np.tile(\n",
        "    #     np.mean(image_np, 2, keepdims=True), (1, 1, 3)).astype(np.uint8)\n",
        "\n",
        "    # The input needs to be a tensor, convert it using `tf.convert_to_tensor`.\n",
        "    input_tensor=tf.convert_to_tensor(image_np)\n",
        "    # The model expects a batch of images, so add an axis with `tf.newaxis`.\n",
        "    input_tensor=input_tensor[tf.newaxis, ...]\n",
        "\n",
        "    # input_tensor = np.expand_dims(image_np, 0)\n",
        "    detections=detect_fn(input_tensor)\n",
        "\n",
        "    # All outputs are batches tensors.\n",
        "    # Convert to numpy arrays, and take index [0] to remove the batch dimension.\n",
        "    # We're only interested in the first num_detections.\n",
        "    num_detections=int(detections.pop('num_detections'))\n",
        "    detections={key:value[0,:num_detections].numpy()\n",
        "                   for key,value in detections.items()}\n",
        "    detections['num_detections']=num_detections\n",
        "\n",
        "    # detection_classes should be ints.\n",
        "    detections['detection_classes']=detections['detection_classes'].astype(np.int64)\n",
        "\n",
        "    image_np_with_detections=image_np.copy()\n",
        "\n",
        "    viz_utils.visualize_boxes_and_labels_on_image_array(\n",
        "          image_np_with_detections,\n",
        "          detections['detection_boxes'],\n",
        "          detections['detection_classes'],\n",
        "          detections['detection_scores'],\n",
        "          category_index,\n",
        "          use_normalized_coordinates=True,\n",
        "          max_boxes_to_draw=1,     #max number of bounding boxes in the image\n",
        "          min_score_thresh=.3,      #min prediction threshold\n",
        "          agnostic_mode=False)\n",
        "    %matplotlib inline\n",
        "    plt.figure()\n",
        "    plt.imshow(image_np_with_detections)\n",
        "    print('Done')\n",
        "    plt.show()"
      ],
      "execution_count": null,
      "outputs": []
    },
    {
      "source": [
        "# The End"
      ],
      "cell_type": "markdown",
      "metadata": {}
    }
  ]
}
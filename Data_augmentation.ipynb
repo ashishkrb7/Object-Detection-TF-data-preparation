{
 "metadata": {
  "language_info": {
   "codemirror_mode": {
    "name": "ipython",
    "version": 3
   },
   "file_extension": ".py",
   "mimetype": "text/x-python",
   "name": "python",
   "nbconvert_exporter": "python",
   "pygments_lexer": "ipython3",
   "version": 3
  },
  "orig_nbformat": 2
 },
 "nbformat": 4,
 "nbformat_minor": 2,
 "cells": [
  {
   "source": [
    "# Data augmentation"
   ],
   "cell_type": "markdown",
   "metadata": {}
  },
  {
   "source": [
    "<table align=\"left\"><td>\n",
    "  <a target=\"_blank\"  href=\"https://colab.sandbox.google.com/github/ashishkrb7/Object-Detection-TF-data-preparation/blob/main/Data_augmentation.ipynb\">\n",
    "    <img src=\"https://www.tensorflow.org/images/colab_logo_32px.png\" />Run in Google Colab\n",
    "  </a>\n",
    "</td><td>\n",
    "  <a target=\"_blank\"  href=\"https://github.com/ashishkrb7/Object-Detection-TF-data-preparation/blob/main/Data_augmentation.ipynb\">\n",
    "    <img width=32px src=\"https://www.tensorflow.org/images/GitHub-Mark-32px.png\" />View source on GitHub</a>\n",
    "</td></table>"
   ],
   "cell_type": "markdown",
   "metadata": {}
  },
  {
   "source": [
    "# Upload original dataset in zip file"
   ],
   "cell_type": "markdown",
   "metadata": {}
  },
  {
   "cell_type": "code",
   "execution_count": null,
   "metadata": {},
   "outputs": [],
   "source": [
    "from google.colab import files"
   ]
  },
  {
   "cell_type": "code",
   "execution_count": null,
   "metadata": {},
   "outputs": [],
   "source": [
    "upload=files.upload()"
   ]
  },
  {
   "cell_type": "code",
   "execution_count": null,
   "metadata": {},
   "outputs": [],
   "source": [
    "!unzip data.zip\n",
    "!rm data.zip"
   ]
  },
  {
   "source": [
    "# Python code implementing Data augmentation"
   ],
   "cell_type": "markdown",
   "metadata": {}
  },
  {
   "cell_type": "code",
   "execution_count": null,
   "metadata": {},
   "outputs": [],
   "source": [
    "# Importing necessary functions \n",
    "import os\n",
    "from tqdm import tqdm\n",
    "from tensorflow.keras.preprocessing.image import ImageDataGenerator,array_to_img, img_to_array, load_img \n",
    "if not os.path.exists('./preview'):os.makedirs('./preview')   \n",
    "# Initialising the ImageDataGenerator class. \n",
    "# We will pass in the augmentation parameters in the constructor. \n",
    "datagen = ImageDataGenerator( \n",
    "        rotation_range = 40, \n",
    "        shear_range = 0.2, \n",
    "        zoom_range = 0.2, \n",
    "        horizontal_flip = True, \n",
    "        brightness_range = (0.5, 1.5)) \n",
    "\n",
    "path=r\"/content/\"\n",
    "images=[j for j in os.listdir(path) if j.endswith('.jpg')]   \n",
    "\n",
    "for filename in tqdm(images):\n",
    "    # Loading a sample image  \n",
    "    img = load_img(path+filename)  \n",
    "    # Converting the input sample image to an array \n",
    "    x = img_to_array(img) \n",
    "    # Reshaping the input image \n",
    "    x = x.reshape((1, ) + x.shape)  \n",
    "    # Generating and saving 5 augmented samples  \n",
    "    # using the above defined parameters.  \n",
    "    i = 0\n",
    "    for batch in datagen.flow(x, batch_size = 1, \n",
    "                            save_to_dir ='preview',  \n",
    "                            save_prefix ='image', save_format ='jpg'): \n",
    "        i += 1\n",
    "        if i > 5: \n",
    "            break"
   ]
  },
  {
   "cell_type": "code",
   "execution_count": null,
   "metadata": {},
   "outputs": [],
   "source": [
    "inputDir='/content/preview'\n",
    "%cd {inputDir}\n",
    "!zip -r Augmentated_data.zip {inputDir}\n",
    "from google.colab import files\n",
    "files.download('Augmentated_data.zip')"
   ]
  }
 ]
}